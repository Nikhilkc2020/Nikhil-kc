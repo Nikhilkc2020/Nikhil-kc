{
 "cells": [
  {
   "cell_type": "code",
   "execution_count": 2,
   "id": "6087e16e",
   "metadata": {},
   "outputs": [],
   "source": [
    "def add_items(items):\n",
    "    items_in_str = []\n",
    "    for i in items:\n",
    "        items_in_str.append(str(i))\n",
    "        left = '+'.join(items_in_str)\n",
    "        right = sum(items)\n",
    "        equation=left+'='+str(right)\n",
    "    print(equation)"
   ]
  },
  {
   "cell_type": "code",
   "execution_count": 3,
   "id": "c575a69d",
   "metadata": {},
   "outputs": [
    {
     "name": "stdout",
     "output_type": "stream",
     "text": [
      "Enter the numbers to add:82307\n",
      "8+2+3+0+7=20\n"
     ]
    }
   ],
   "source": [
    "list_of_str=list(input(\"Enter the numbers to add:\"))\n",
    "list_of_num=[]\n",
    "for i in list_of_str:\n",
    "    digit=int(i)\n",
    "    list_of_num.append(digit)\n",
    "add_items(list_of_num)"
   ]
  },
  {
   "cell_type": "code",
   "execution_count": null,
   "id": "ede7d999",
   "metadata": {},
   "outputs": [],
   "source": []
  }
 ],
 "metadata": {
  "kernelspec": {
   "display_name": "Python 3 (ipykernel)",
   "language": "python",
   "name": "python3"
  },
  "language_info": {
   "codemirror_mode": {
    "name": "ipython",
    "version": 3
   },
   "file_extension": ".py",
   "mimetype": "text/x-python",
   "name": "python",
   "nbconvert_exporter": "python",
   "pygments_lexer": "ipython3",
   "version": "3.10.0"
  }
 },
 "nbformat": 4,
 "nbformat_minor": 5
}
