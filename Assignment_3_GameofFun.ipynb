{
 "cells": [
  {
   "cell_type": "code",
   "execution_count": 1,
   "id": "5f186338",
   "metadata": {},
   "outputs": [],
   "source": [
    "def sum_of_list(list):\n",
    "    x=0\n",
    "    for i in list:\n",
    "        x=x+i\n",
    "    print('The total sum is',x)"
   ]
  },
  {
   "cell_type": "code",
   "execution_count": 2,
   "id": "0d7222a0",
   "metadata": {},
   "outputs": [
    {
     "name": "stdout",
     "output_type": "stream",
     "text": [
      "Enter the numbers to add:82307\n",
      "The total sum is 20\n"
     ]
    }
   ],
   "source": [
    "list_of_str=list(input(\"Enter the numbers to add:\"))\n",
    "list_of_num=[]\n",
    "for i in list_of_str:\n",
    "    digit=int(i)\n",
    "    list_of_num.append(digit)\n",
    "sum_of_list(list_of_num)"
   ]
  },
  {
   "cell_type": "code",
   "execution_count": null,
   "id": "1fc36499",
   "metadata": {},
   "outputs": [],
   "source": []
  }
 ],
 "metadata": {
  "kernelspec": {
   "display_name": "Python 3 (ipykernel)",
   "language": "python",
   "name": "python3"
  },
  "language_info": {
   "codemirror_mode": {
    "name": "ipython",
    "version": 3
   },
   "file_extension": ".py",
   "mimetype": "text/x-python",
   "name": "python",
   "nbconvert_exporter": "python",
   "pygments_lexer": "ipython3",
   "version": "3.10.0"
  }
 },
 "nbformat": 4,
 "nbformat_minor": 5
}
