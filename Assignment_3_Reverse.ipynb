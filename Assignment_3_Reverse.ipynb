{
 "cells": [
  {
   "cell_type": "code",
   "execution_count": 12,
   "id": "51852331",
   "metadata": {},
   "outputs": [
    {
     "name": "stdout",
     "output_type": "stream",
     "text": [
      "1234abcd\n",
      "dcba4321\n"
     ]
    }
   ],
   "source": [
    "def string_reverse(str1):\n",
    "    str = ''\n",
    "    index = len(str1)\n",
    "    while index > 0:\n",
    "        str += str1[ index - 1 ]\n",
    "        index = index - 1\n",
    "    return str\n",
    "print(string_reverse(input()))\n"
   ]
  },
  {
   "cell_type": "code",
   "execution_count": null,
   "id": "f12a8a4e",
   "metadata": {},
   "outputs": [],
   "source": []
  }
 ],
 "metadata": {
  "kernelspec": {
   "display_name": "Python 3 (ipykernel)",
   "language": "python",
   "name": "python3"
  },
  "language_info": {
   "codemirror_mode": {
    "name": "ipython",
    "version": 3
   },
   "file_extension": ".py",
   "mimetype": "text/x-python",
   "name": "python",
   "nbconvert_exporter": "python",
   "pygments_lexer": "ipython3",
   "version": "3.10.0"
  }
 },
 "nbformat": 4,
 "nbformat_minor": 5
}
