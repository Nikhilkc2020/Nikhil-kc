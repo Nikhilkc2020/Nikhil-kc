{
 "cells": [
  {
   "cell_type": "code",
   "execution_count": 3,
   "id": "a0d7d57d",
   "metadata": {},
   "outputs": [
    {
     "name": "stdout",
     "output_type": "stream",
     "text": [
      "Reverse the word for given input Edyoda\n",
      "adoydE\n"
     ]
    }
   ],
   "source": [
    "x = input('Reverse the word for given input ')\n",
    "print(x[-1:-7:-1])\n"
   ]
  },
  {
   "cell_type": "markdown",
   "id": "67b6b8ef",
   "metadata": {},
   "source": [
    "###### The below code is for all possible words"
   ]
  },
  {
   "cell_type": "code",
   "execution_count": 5,
   "id": "a2499967",
   "metadata": {},
   "outputs": [
    {
     "name": "stdout",
     "output_type": "stream",
     "text": [
      "Reverse the word for given input Jypter Notebook\n",
      "koobetoN retpyJ\n"
     ]
    }
   ],
   "source": [
    "x = input('Reverse the word for given input ')\n",
    "print(x[-1::-1])"
   ]
  },
  {
   "cell_type": "code",
   "execution_count": null,
   "id": "e9cb7b0a",
   "metadata": {},
   "outputs": [],
   "source": []
  }
 ],
 "metadata": {
  "kernelspec": {
   "display_name": "Python 3 (ipykernel)",
   "language": "python",
   "name": "python3"
  },
  "language_info": {
   "codemirror_mode": {
    "name": "ipython",
    "version": 3
   },
   "file_extension": ".py",
   "mimetype": "text/x-python",
   "name": "python",
   "nbconvert_exporter": "python",
   "pygments_lexer": "ipython3",
   "version": "3.10.0"
  }
 },
 "nbformat": 4,
 "nbformat_minor": 5
}
