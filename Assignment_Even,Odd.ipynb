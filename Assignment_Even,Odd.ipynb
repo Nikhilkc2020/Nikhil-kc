{
 "cells": [
  {
   "cell_type": "code",
   "execution_count": 1,
   "id": "0810eba8",
   "metadata": {},
   "outputs": [
    {
     "name": "stdout",
     "output_type": "stream",
     "text": [
      "number of even 4\n",
      "number of odd 5\n"
     ]
    }
   ],
   "source": [
    "x=[1,2,3,4,5,6,7,8,9]\n",
    "count=0\n",
    "count1=0\n",
    "for i in x:\n",
    "    if i%2==0:\n",
    "        count +=1\n",
    "    else:\n",
    "        count1 +=1\n",
    "print('number of even',count)\n",
    "print('number of odd',count1)"
   ]
  },
  {
   "cell_type": "code",
   "execution_count": null,
   "id": "f9f165a4",
   "metadata": {},
   "outputs": [],
   "source": []
  }
 ],
 "metadata": {
  "kernelspec": {
   "display_name": "Python 3 (ipykernel)",
   "language": "python",
   "name": "python3"
  },
  "language_info": {
   "codemirror_mode": {
    "name": "ipython",
    "version": 3
   },
   "file_extension": ".py",
   "mimetype": "text/x-python",
   "name": "python",
   "nbconvert_exporter": "python",
   "pygments_lexer": "ipython3",
   "version": "3.10.0"
  }
 },
 "nbformat": 4,
 "nbformat_minor": 5
}
