{
 "cells": [
  {
   "cell_type": "code",
   "execution_count": 1,
   "id": "e8e6aa77",
   "metadata": {},
   "outputs": [
    {
     "name": "stdout",
     "output_type": "stream",
     "text": [
      "Reverse the word for given input Edyoda\n",
      "adoydE\n"
     ]
    }
   ],
   "source": [
    "x = input('Reverse the word for given input ')\n",
    "print(x[-1:-7:-1])\n"
   ]
  },
  {
   "cell_type": "code",
   "execution_count": null,
   "id": "cc0556a4",
   "metadata": {},
   "outputs": [],
   "source": []
  }
 ],
 "metadata": {
  "kernelspec": {
   "display_name": "Python 3 (ipykernel)",
   "language": "python",
   "name": "python3"
  },
  "language_info": {
   "codemirror_mode": {
    "name": "ipython",
    "version": 3
   },
   "file_extension": ".py",
   "mimetype": "text/x-python",
   "name": "python",
   "nbconvert_exporter": "python",
   "pygments_lexer": "ipython3",
   "version": "3.10.0"
  }
 },
 "nbformat": 4,
 "nbformat_minor": 5
}
